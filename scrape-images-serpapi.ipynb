{
 "cells": [
  {
   "cell_type": "code",
   "execution_count": null,
   "id": "185af6d2",
   "metadata": {},
   "outputs": [],
   "source": [
    "\"\"\"\n",
    "REMEMBER TO ENTER YOUR API KEY!!!\n",
    "\"\"\"\n",
    "\n",
    "API_KEY = \"MY_API_KEY\""
   ]
  },
  {
   "cell_type": "code",
   "execution_count": null,
   "id": "2fed05df",
   "metadata": {},
   "outputs": [],
   "source": [
    "import os\n",
    "import requests\n",
    "from serpapi import GoogleSearch\n",
    "from PIL import Image\n",
    "from io import BytesIO\n",
    "from tqdm import tqdm\n",
    "import urllib.request"
   ]
  },
  {
   "cell_type": "code",
   "execution_count": null,
   "id": "114e65ef",
   "metadata": {},
   "outputs": [],
   "source": [
    "#modify to your needs, takes an array of strings\n",
    "searches = [\"dog\"]\n",
    "\n",
    "all_image_urls = []\n",
    "num_images = 100\n",
    "\n",
    "for search in tqdm(searches):\n",
    "\n",
    "    params = {\n",
    "      \"q\": search,\n",
    "      \"tbm\": \"isch\",\n",
    "      \"ijn\": \"0\",\n",
    "      \"api_key\": API_KEY,\n",
    "      \"num\": num_images\n",
    "    }\n",
    "    \n",
    "    search = GoogleSearch(params)\n",
    "    results = search.get_dict()\n",
    "    \n",
    "    #image_urls = [result['original'] for result in results['images_results']] #sometimes has issues\n",
    "    \n",
    "    image_urls = []\n",
    "    for result in results['images_results']:\n",
    "        if 'original' in result:\n",
    "            image_urls.append(result['original'])\n",
    "        elif 'image' in result:\n",
    "            image_urls.append(result['image'])\n",
    "        elif 'thumbnail' in result:\n",
    "            image_urls.append(result['thumbnail'])\n",
    "        else:\n",
    "            print(f\"No URL found for {search}\")\n",
    "\n",
    "    \n",
    "    all_image_urls.append((search, image_urls))"
   ]
  },
  {
   "cell_type": "code",
   "execution_count": null,
   "id": "5c4c928f",
   "metadata": {},
   "outputs": [],
   "source": [
    "import pickle\n",
    "\n",
    "# Save all_image_urls as a pickle file to save on future API calls\n",
    "with open('all_image_urls.pkl', 'wb') as f:\n",
    "    pickle.dump(all_image_urls, f)"
   ]
  },
  {
   "cell_type": "code",
   "execution_count": null,
   "id": "8dbff600",
   "metadata": {
    "scrolled": true
   },
   "outputs": [],
   "source": [
    "# Download and save images to local directory\n",
    "\n",
    "for search, image_urls in all_image_urls:\n",
    "    save_directory = f\"./searches/\"\n",
    "    if not os.path.exists(save_directory):\n",
    "        os.makedirs(save_directory)\n",
    "\n",
    "    for i, url in enumerate(tqdm(image_urls)):\n",
    "        try:\n",
    "            response = requests.get(url, timeout=5)\n",
    "            with open(f\"{save_directory}/{search}_{i}.jpg\", \"wb\") as f:\n",
    "                f.write(response.content)\n",
    "           # print(f\"Saved image {i+1} of {len(image_urls)}\")\n",
    "        except:\n",
    "            print(f\"Skipped invalid image {i+1} of {len(image_urls)}\")"
   ]
  }
 ],
 "metadata": {
  "kernelspec": {
   "display_name": "Python 3 (ipykernel)",
   "language": "python",
   "name": "python3"
  },
  "language_info": {
   "codemirror_mode": {
    "name": "ipython",
    "version": 3
   },
   "file_extension": ".py",
   "mimetype": "text/x-python",
   "name": "python",
   "nbconvert_exporter": "python",
   "pygments_lexer": "ipython3",
   "version": "3.11.1"
  }
 },
 "nbformat": 4,
 "nbformat_minor": 5
}
